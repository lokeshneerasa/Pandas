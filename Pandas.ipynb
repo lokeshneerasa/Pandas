{
  "nbformat": 4,
  "nbformat_minor": 0,
  "metadata": {
    "colab": {
      "provenance": [],
      "authorship_tag": "ABX9TyMX3fRH4z3usDSJstxP5USs",
      "include_colab_link": true
    },
    "kernelspec": {
      "name": "python3",
      "display_name": "Python 3"
    },
    "language_info": {
      "name": "python"
    }
  },
  "cells": [
    {
      "cell_type": "markdown",
      "metadata": {
        "id": "view-in-github",
        "colab_type": "text"
      },
      "source": [
        "<a href=\"https://colab.research.google.com/github/lokeshneerasa/Pandas/blob/main/Pandas.ipynb\" target=\"_parent\"><img src=\"https://colab.research.google.com/assets/colab-badge.svg\" alt=\"Open In Colab\"/></a>"
      ]
    },
    {
      "cell_type": "code",
      "source": [
        "#---------------------------------> PANDAS <----------------------------------#\n",
        "##------------> SERIES <---------##\n",
        "#1.EMPTY SERIES OBJECT\n",
        "import pandas as pd\n",
        "a=pd.Series()\n",
        "print(a)\n",
        "print(type(a))"
      ],
      "metadata": {
        "colab": {
          "base_uri": "https://localhost:8080/"
        },
        "id": "Z4aKwmM3Q_YP",
        "outputId": "e439de52-6fbe-40f0-8205-2f3595024ac2"
      },
      "execution_count": null,
      "outputs": [
        {
          "output_type": "stream",
          "name": "stdout",
          "text": [
            "Series([], dtype: object)\n",
            "<class 'pandas.core.series.Series'>\n"
          ]
        }
      ]
    },
    {
      "cell_type": "code",
      "source": [
        "#2.CREATING SERIES BY USING LIST\n",
        "import pandas as pd\n",
        "a=[85,93,52,66,30]\n",
        "b=pd.Series(a)\n",
        "print(b)\n"
      ],
      "metadata": {
        "colab": {
          "base_uri": "https://localhost:8080/"
        },
        "id": "2kJocep9nZ-I",
        "outputId": "73f2a29e-b538-4050-cc54-3083185fdf89"
      },
      "execution_count": null,
      "outputs": [
        {
          "output_type": "stream",
          "name": "stdout",
          "text": [
            "0    85\n",
            "1    93\n",
            "2    52\n",
            "3    66\n",
            "4    30\n",
            "dtype: int64\n"
          ]
        }
      ]
    },
    {
      "cell_type": "code",
      "source": [
        "#CREATING SERIES BY USING LIST,ASSIGNING A NAME\n",
        "import pandas as pd\n",
        "a=[62,89,45,23,93]\n",
        "b=pd.Series(a,name=\"Marks\")\n",
        "print(b)\n"
      ],
      "metadata": {
        "colab": {
          "base_uri": "https://localhost:8080/"
        },
        "id": "Vq1_Xrfdos5C",
        "outputId": "0053dce5-2aee-41f0-80b7-a99dc76d1d89"
      },
      "execution_count": null,
      "outputs": [
        {
          "output_type": "stream",
          "name": "stdout",
          "text": [
            "0    62\n",
            "1    89\n",
            "2    45\n",
            "3    23\n",
            "4    93\n",
            "Name: Marks, dtype: int64\n"
          ]
        }
      ]
    },
    {
      "cell_type": "code",
      "source": [
        "import pandas as pd\n",
        "a=pd.Series([10,20,30,40,50])\n",
        "print(a)\n",
        "\n"
      ],
      "metadata": {
        "colab": {
          "base_uri": "https://localhost:8080/"
        },
        "id": "jFU13MLtRRle",
        "outputId": "5cdc4e56-afe9-4e1e-f2b1-ef8cd519074b"
      },
      "execution_count": null,
      "outputs": [
        {
          "output_type": "stream",
          "name": "stdout",
          "text": [
            "0    10\n",
            "1    20\n",
            "2    30\n",
            "3    40\n",
            "4    50\n",
            "dtype: int64\n"
          ]
        }
      ]
    },
    {
      "cell_type": "code",
      "source": [
        "import pandas as pd\n",
        "a=pd.Series([10,20,30,40],name=\"RoLLNO\")\n",
        "print(a)"
      ],
      "metadata": {
        "colab": {
          "base_uri": "https://localhost:8080/"
        },
        "id": "jrt3xeHxTaci",
        "outputId": "2ff5c095-bbe5-4d0c-d7ec-087056799332"
      },
      "execution_count": null,
      "outputs": [
        {
          "output_type": "stream",
          "name": "stdout",
          "text": [
            "0    10\n",
            "1    20\n",
            "2    30\n",
            "3    40\n",
            "Name: RoLLNO, dtype: int64\n"
          ]
        }
      ]
    },
    {
      "cell_type": "code",
      "source": [
        "import pandas as pd\n",
        "a=pd.Series([\"LOKI\",\"MOHAN\",\"GANI\",\"VAMSI\"],name=\"Students\")\n",
        "print(a)"
      ],
      "metadata": {
        "colab": {
          "base_uri": "https://localhost:8080/"
        },
        "id": "RRxso1gKW4x1",
        "outputId": "f59e8622-018c-463c-a0f2-e05bf0810413"
      },
      "execution_count": null,
      "outputs": [
        {
          "output_type": "stream",
          "name": "stdout",
          "text": [
            "0     LOKI\n",
            "1    MOHAN\n",
            "2     GANI\n",
            "3    VAMSI\n",
            "Name: Students, dtype: object\n"
          ]
        }
      ]
    },
    {
      "cell_type": "code",
      "source": [
        "#CREATING SERIES OBJECT BY USING RANGE AND LIST\n",
        "import pandas as pd\n",
        "a=range(100)\n",
        "b=list(a)\n",
        "c=pd.Series(a)\n",
        "print(c)"
      ],
      "metadata": {
        "colab": {
          "base_uri": "https://localhost:8080/"
        },
        "id": "UCtogfLHpdYs",
        "outputId": "02358389-499c-44b0-cc99-f5e2c805e307"
      },
      "execution_count": null,
      "outputs": [
        {
          "output_type": "stream",
          "name": "stdout",
          "text": [
            "0      0\n",
            "1      1\n",
            "2      2\n",
            "3      3\n",
            "4      4\n",
            "      ..\n",
            "95    95\n",
            "96    96\n",
            "97    97\n",
            "98    98\n",
            "99    99\n",
            "Length: 100, dtype: int64\n"
          ]
        }
      ]
    },
    {
      "cell_type": "code",
      "source": [
        "#3.CREATING A SERIES FROM A ARRAY\n",
        "import pandas as pd\n",
        "import numpy as np\n",
        "a=[10,20,30,40,50]\n",
        "b=np.array(a)\n",
        "print(b)\n",
        "print(type(b))\n"
      ],
      "metadata": {
        "colab": {
          "base_uri": "https://localhost:8080/"
        },
        "id": "KKRfGSxmUCwD",
        "outputId": "baa97473-3f39-43a5-e398-b77ee77a9ed3"
      },
      "execution_count": null,
      "outputs": [
        {
          "output_type": "stream",
          "name": "stdout",
          "text": [
            "[10 20 30 40 50]\n",
            "<class 'numpy.ndarray'>\n"
          ]
        }
      ]
    },
    {
      "cell_type": "code",
      "source": [
        "#FINDING DATATYPE OF AN ARRAY\n",
        "import pandas as pd\n",
        "import numpy as np\n",
        "a=(10,20,30,40,50)\n",
        "b=np.array(a)\n",
        "r=list(a)\n",
        "print(b)\n",
        "print(type(a))"
      ],
      "metadata": {
        "colab": {
          "base_uri": "https://localhost:8080/"
        },
        "id": "eQbxHWJnVeCa",
        "outputId": "5397b57a-448d-4486-8c1a-9f5b6ab0dc74"
      },
      "execution_count": null,
      "outputs": [
        {
          "output_type": "stream",
          "name": "stdout",
          "text": [
            "[10 20 30 40 50]\n",
            "<class 'tuple'>\n"
          ]
        }
      ]
    },
    {
      "cell_type": "code",
      "source": [
        "#creating ndarray and passing argument to the Series\n",
        "import pandas as pd\n",
        "import numpy as np\n",
        "a=[10,20,30,40,50]\n",
        "b=np.array(a)\n",
        "c=pd.Series(b)\n",
        "print(c)"
      ],
      "metadata": {
        "colab": {
          "base_uri": "https://localhost:8080/"
        },
        "id": "BSiIkAz1q7al",
        "outputId": "f12e9953-379b-48ca-f209-0add41474c79"
      },
      "execution_count": null,
      "outputs": [
        {
          "output_type": "stream",
          "name": "stdout",
          "text": [
            "0    10\n",
            "1    20\n",
            "2    30\n",
            "3    40\n",
            "4    50\n",
            "dtype: int64\n"
          ]
        }
      ]
    },
    {
      "cell_type": "code",
      "source": [
        "#Creating Series using ndarray\n",
        "##Ex1:\n",
        "import pandas as pd\n",
        "import numpy as np\n",
        "values=['a','b','c','d']\n",
        "data=np.array(values)\n",
        "s=pd.Series(data)\n",
        "print(s)"
      ],
      "metadata": {
        "colab": {
          "base_uri": "https://localhost:8080/"
        },
        "id": "BqYSm-xWrkGq",
        "outputId": "e7e32290-4420-42a3-9039-104a9a1adc4e"
      },
      "execution_count": null,
      "outputs": [
        {
          "output_type": "stream",
          "name": "stdout",
          "text": [
            "0    a\n",
            "1    b\n",
            "2    c\n",
            "3    d\n",
            "dtype: object\n"
          ]
        }
      ]
    },
    {
      "cell_type": "code",
      "source": [
        "##Ex2:\n",
        "import pandas as pd\n",
        "import numpy as np\n",
        "values=[\"loki\",\"mohan\",\"dimple\",\"murari\"]\n",
        "data=np.array(values)\n",
        "s=pd.Series(data)\n",
        "print(s)\n"
      ],
      "metadata": {
        "colab": {
          "base_uri": "https://localhost:8080/"
        },
        "id": "iOTyil9KsUNq",
        "outputId": "592b3b68-41f2-4dc2-fc86-440f0ddc49b9"
      },
      "execution_count": null,
      "outputs": [
        {
          "output_type": "stream",
          "name": "stdout",
          "text": [
            "0      loki\n",
            "1     mohan\n",
            "2    dimple\n",
            "3    murari\n",
            "dtype: object\n"
          ]
        }
      ]
    },
    {
      "cell_type": "code",
      "source": [
        "#----------------INDEX IN SERIES----------------------#\n",
        "#Creating Series object and giving name and index\n",
        "##Ex1:\n",
        "import pandas as pd\n",
        "a=[156,123,86,62,76]\n",
        "i=[10,20,30,40,50]\n",
        "b=pd.Series(a,name=\"Marks\",index=i)\n",
        "print(b)\n"
      ],
      "metadata": {
        "colab": {
          "base_uri": "https://localhost:8080/"
        },
        "id": "jDHU0A1UtOTI",
        "outputId": "d582ac99-0cc6-4108-e0d6-2ad2b84c4de1"
      },
      "execution_count": null,
      "outputs": [
        {
          "output_type": "stream",
          "name": "stdout",
          "text": [
            "10    156\n",
            "20    123\n",
            "30     86\n",
            "40     62\n",
            "50     76\n",
            "Name: Marks, dtype: int64\n"
          ]
        }
      ]
    },
    {
      "cell_type": "code",
      "source": [
        "#Ex2:\n",
        "import pandas as pd\n",
        "Prices=[50000,75000,90000,120000]\n",
        "Products=[\"Lenovo\",\"Dell\",\"Honor\",\"MacBook\"]\n",
        "b=pd.Series(Prices,name=\"Laptops\",index=Products)\n",
        "print(b)\n"
      ],
      "metadata": {
        "colab": {
          "base_uri": "https://localhost:8080/"
        },
        "id": "OGs-r3MOucs3",
        "outputId": "5e9cfa2e-cbaf-4d7b-ab66-38718c5d5246"
      },
      "execution_count": null,
      "outputs": [
        {
          "output_type": "stream",
          "name": "stdout",
          "text": [
            "Lenovo      50000\n",
            "Dell        75000\n",
            "Honor       90000\n",
            "MacBook    120000\n",
            "Name: Laptops, dtype: int64\n"
          ]
        }
      ]
    },
    {
      "cell_type": "code",
      "source": [
        "##Ex3:\n",
        "import pandas as pd\n",
        "sales=pd.Series([2000,6000,4500,7100,3600],index=[\"jan\",\"feb\",\"mar\",\"apr\",\"may\"])\n",
        "print(sales)"
      ],
      "metadata": {
        "colab": {
          "base_uri": "https://localhost:8080/"
        },
        "id": "kjmU-NVr6yga",
        "outputId": "26f56b8e-5c42-423b-96db-b76e57cd734f"
      },
      "execution_count": null,
      "outputs": [
        {
          "output_type": "stream",
          "name": "stdout",
          "text": [
            "jan    2000\n",
            "feb    6000\n",
            "mar    4500\n",
            "apr    7100\n",
            "may    3600\n",
            "dtype: int64\n"
          ]
        }
      ]
    },
    {
      "cell_type": "code",
      "source": [
        "#-----Accessing values in Series------#\n",
        "##Ex:1\n",
        "import pandas as pd\n",
        "a=[45,61,85,33,54]\n",
        "b=pd.Series(a,name=\"Marks\")\n",
        "print(b)\n",
        "print()\n",
        "print(b[0])\n",
        "print(b[1])\n"
      ],
      "metadata": {
        "colab": {
          "base_uri": "https://localhost:8080/"
        },
        "id": "A44scIW-vjZT",
        "outputId": "d39d6375-70a1-44d2-870c-abd8c7712aaf"
      },
      "execution_count": null,
      "outputs": [
        {
          "output_type": "stream",
          "name": "stdout",
          "text": [
            "0    45\n",
            "1    61\n",
            "2    85\n",
            "3    33\n",
            "4    54\n",
            "Name: Marks, dtype: int64\n",
            "\n",
            "45\n",
            "61\n"
          ]
        }
      ]
    },
    {
      "cell_type": "code",
      "source": [
        "##Ex:2\n",
        "import pandas as pd\n",
        "Prices=[50000,75000,90000,120000]\n",
        "Products=[\"Lenovo\",\"Dell\",\"Honor\",\"MacBook\"]\n",
        "b=pd.Series(Prices,name=\"Laptops\",index=Products)\n",
        "print(b)\n",
        "print()\n",
        "print(b[\"Lenovo\"])\n",
        "print(b[\"MacBook\"])\n",
        "\n",
        "\n"
      ],
      "metadata": {
        "colab": {
          "base_uri": "https://localhost:8080/"
        },
        "id": "BZVwoKmlwkKM",
        "outputId": "d3eb2ba3-0871-448b-fde3-45531af2ea72"
      },
      "execution_count": null,
      "outputs": [
        {
          "output_type": "stream",
          "name": "stdout",
          "text": [
            "Lenovo      50000\n",
            "Dell        75000\n",
            "Honor       90000\n",
            "MacBook    120000\n",
            "Name: Laptops, dtype: int64\n",
            "\n",
            "50000\n",
            "120000\n"
          ]
        }
      ]
    },
    {
      "cell_type": "code",
      "source": [
        "###---Finding values in Dictionary using Series----####\n",
        "#Ex:1\n",
        "import pandas as pd\n",
        "emp_data={\"idno\":250,\"name\":\"loki\",\"salary\":25000.00}\n",
        "s=pd.Series(emp_data)\n",
        "print(s.iloc[0])\n",
        "print(s.iloc[1])\n",
        "print(s.iloc[2])\n"
      ],
      "metadata": {
        "colab": {
          "base_uri": "https://localhost:8080/"
        },
        "id": "LocJ73QbRU12",
        "outputId": "70e0e942-cb7d-4256-eaea-d463167be9a1"
      },
      "execution_count": null,
      "outputs": [
        {
          "output_type": "stream",
          "name": "stdout",
          "text": [
            "250\n",
            "loki\n",
            "25000.0\n"
          ]
        }
      ]
    },
    {
      "cell_type": "code",
      "source": [
        "#Ex2:Key not Available Sometimes\n",
        "import pandas as pd\n",
        "emp_data={\"idno\":250,\"name\":\"loki\",\"salary\":25000.00}\n",
        "s=pd.Series(emp_data)\n",
        "data=s.get([\"deptno\"],\"Not a key\")\n",
        "print(data)\n"
      ],
      "metadata": {
        "colab": {
          "base_uri": "https://localhost:8080/"
        },
        "id": "BjW-7w80UDmU",
        "outputId": "e1218d78-6ec0-4348-eed3-78de09647a05"
      },
      "execution_count": null,
      "outputs": [
        {
          "output_type": "stream",
          "name": "stdout",
          "text": [
            "Not a key\n"
          ]
        }
      ]
    },
    {
      "cell_type": "code",
      "source": [
        "##---- Getting Top Rows using Series ------##\n",
        "import pandas as pd\n",
        "emp_data={\"name\":\"lokesh\",\"age\":22,\"job\":\"data scientist\"}\n",
        "s=pd.Series(emp_data)\n",
        "print(s.head(2))\n"
      ],
      "metadata": {
        "colab": {
          "base_uri": "https://localhost:8080/"
        },
        "id": "XHhT18XDUp8l",
        "outputId": "b3f18880-3fa1-44cd-f202-7f1c2e76fa42"
      },
      "execution_count": null,
      "outputs": [
        {
          "output_type": "stream",
          "name": "stdout",
          "text": [
            "name    lokesh\n",
            "age         22\n",
            "dtype: object\n"
          ]
        }
      ]
    },
    {
      "cell_type": "code",
      "source": [
        "##------Getting The Bottom Rows Using Series-------##\n",
        "import pandas as pd\n",
        "student_data={\"name\":\"lokesh\",\"class\":12,\"RollNo\":33,\"Branch\":\"MPC\"}\n",
        "s=pd.Series(student_data)\n",
        "print(s.tail(3))\n"
      ],
      "metadata": {
        "id": "mAVneQcazUyZ",
        "colab": {
          "base_uri": "https://localhost:8080/"
        },
        "outputId": "ae44b34a-d5cb-42d6-f1d9-28dac4a0fd30"
      },
      "execution_count": null,
      "outputs": [
        {
          "output_type": "stream",
          "name": "stdout",
          "text": [
            "class      12\n",
            "RollNo     33\n",
            "Branch    MPC\n",
            "dtype: object\n"
          ]
        }
      ]
    },
    {
      "cell_type": "code",
      "source": [
        "##---------NaN Using in Series--------------##\n",
        "import pandas as pd\n",
        "sales=pd.Series([100,np.nan,300,400,500],index=[\"jan\",\"feb\",\"march\",\"april\",\"march\"],name=\"data\")\n",
        "print(sales)\n",
        "print(sales.hasnans)\n",
        "print(sales.ndim)\n",
        "print(sales.shape)\n"
      ],
      "metadata": {
        "colab": {
          "base_uri": "https://localhost:8080/"
        },
        "id": "6mqYKs4ybIfw",
        "outputId": "0d5ae45c-6616-43ff-a4cd-e33f05e4b018"
      },
      "execution_count": null,
      "outputs": [
        {
          "output_type": "stream",
          "name": "stdout",
          "text": [
            "jan      100.0\n",
            "feb        NaN\n",
            "march    300.0\n",
            "april    400.0\n",
            "march    500.0\n",
            "Name: data, dtype: float64\n",
            "True\n",
            "1\n",
            "(5,)\n"
          ]
        }
      ]
    },
    {
      "cell_type": "code",
      "source": [
        "#Creating a DataFrame from a Dictionary\n",
        "import pandas as pd\n",
        "data={\n",
        "     'Name':['loki','mohan','dimple','murari'],\n",
        "     'Age':[23,22,20,21],\n",
        "     'Marks':[96,89,87,91]\n",
        "}\n",
        "df=pd.DataFrame(data)\n",
        "print(df)"
      ],
      "metadata": {
        "colab": {
          "base_uri": "https://localhost:8080/"
        },
        "id": "jrwLAyxD6MGk",
        "outputId": "b86ce81b-193e-4d26-e325-5d7665cebaf9"
      },
      "execution_count": null,
      "outputs": [
        {
          "output_type": "stream",
          "name": "stdout",
          "text": [
            "     Name  Age  Marks\n",
            "0    loki   23     96\n",
            "1   mohan   22     89\n",
            "2  dimple   20     87\n",
            "3  murari   21     91\n"
          ]
        }
      ]
    },
    {
      "cell_type": "code",
      "source": [
        "#Creating a DataFrame from a List of Lists\n",
        "import pandas as pd\n",
        "data=[\n",
        "    ['loki',23,96],\n",
        "    ['mohan',22,89],\n",
        "    ['dimple',20,87],\n",
        "    ['murari',21,91]\n",
        "]\n",
        "df=pd.DataFrame(data,columns=[\"Name\",\"Age\",\"Marks\"])\n",
        "print(df)\n"
      ],
      "metadata": {
        "colab": {
          "base_uri": "https://localhost:8080/"
        },
        "id": "oF8fe0fG8lsP",
        "outputId": "27bdc382-5907-45c2-fa82-641264adb578"
      },
      "execution_count": null,
      "outputs": [
        {
          "output_type": "stream",
          "name": "stdout",
          "text": [
            "     Name  Age  Marks\n",
            "0    loki   23     96\n",
            "1   mohan   22     89\n",
            "2  dimple   20     87\n",
            "3  murari   21     91\n"
          ]
        }
      ]
    },
    {
      "cell_type": "code",
      "source": [],
      "metadata": {
        "id": "gzt4qqI3mOUh"
      },
      "execution_count": null,
      "outputs": []
    }
  ]
}