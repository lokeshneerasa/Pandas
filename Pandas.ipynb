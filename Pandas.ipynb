{
  "nbformat": 4,
  "nbformat_minor": 0,
  "metadata": {
    "colab": {
      "provenance": [],
      "authorship_tag": "ABX9TyOIWRU6WlpWVrqq9Qngni08",
      "include_colab_link": true
    },
    "kernelspec": {
      "name": "python3",
      "display_name": "Python 3"
    },
    "language_info": {
      "name": "python"
    }
  },
  "cells": [
    {
      "cell_type": "markdown",
      "metadata": {
        "id": "view-in-github",
        "colab_type": "text"
      },
      "source": [
        "<a href=\"https://colab.research.google.com/github/lokeshneerasa/Pandas/blob/main/Pandas.ipynb\" target=\"_parent\"><img src=\"https://colab.research.google.com/assets/colab-badge.svg\" alt=\"Open In Colab\"/></a>"
      ]
    },
    {
      "cell_type": "code",
      "source": [
        "#---------------------------------> PANDAS <----------------------------------#\n",
        "##------------>1.SERIES <---------##\n",
        "#1.EMPTY SERIES OBJECT\n",
        "import pandas as pd\n",
        "a=pd.Series()\n",
        "print(a)\n",
        "print(type(a))"
      ],
      "metadata": {
        "colab": {
          "base_uri": "https://localhost:8080/"
        },
        "id": "Z4aKwmM3Q_YP",
        "outputId": "e439de52-6fbe-40f0-8205-2f3595024ac2"
      },
      "execution_count": null,
      "outputs": [
        {
          "output_type": "stream",
          "name": "stdout",
          "text": [
            "Series([], dtype: object)\n",
            "<class 'pandas.core.series.Series'>\n"
          ]
        }
      ]
    },
    {
      "cell_type": "code",
      "source": [
        "#2.CREATING SERIES BY USING LIST\n",
        "import pandas as pd\n",
        "a=[85,93,52,66,30]\n",
        "b=pd.Series(a)\n",
        "print(b)\n"
      ],
      "metadata": {
        "colab": {
          "base_uri": "https://localhost:8080/"
        },
        "id": "2kJocep9nZ-I",
        "outputId": "73f2a29e-b538-4050-cc54-3083185fdf89"
      },
      "execution_count": null,
      "outputs": [
        {
          "output_type": "stream",
          "name": "stdout",
          "text": [
            "0    85\n",
            "1    93\n",
            "2    52\n",
            "3    66\n",
            "4    30\n",
            "dtype: int64\n"
          ]
        }
      ]
    },
    {
      "cell_type": "code",
      "source": [
        "#CREATING SERIES BY USING LIST,ASSIGNING A NAME\n",
        "import pandas as pd\n",
        "a=[62,89,45,23,93]\n",
        "b=pd.Series(a,name=\"Marks\")\n",
        "print(b)\n"
      ],
      "metadata": {
        "colab": {
          "base_uri": "https://localhost:8080/"
        },
        "id": "Vq1_Xrfdos5C",
        "outputId": "0053dce5-2aee-41f0-80b7-a99dc76d1d89"
      },
      "execution_count": null,
      "outputs": [
        {
          "output_type": "stream",
          "name": "stdout",
          "text": [
            "0    62\n",
            "1    89\n",
            "2    45\n",
            "3    23\n",
            "4    93\n",
            "Name: Marks, dtype: int64\n"
          ]
        }
      ]
    },
    {
      "cell_type": "code",
      "source": [
        "import pandas as pd\n",
        "a=pd.Series([10,20,30,40,50])\n",
        "print(a)\n",
        "\n"
      ],
      "metadata": {
        "colab": {
          "base_uri": "https://localhost:8080/"
        },
        "id": "jFU13MLtRRle",
        "outputId": "5cdc4e56-afe9-4e1e-f2b1-ef8cd519074b"
      },
      "execution_count": null,
      "outputs": [
        {
          "output_type": "stream",
          "name": "stdout",
          "text": [
            "0    10\n",
            "1    20\n",
            "2    30\n",
            "3    40\n",
            "4    50\n",
            "dtype: int64\n"
          ]
        }
      ]
    },
    {
      "cell_type": "code",
      "source": [
        "import pandas as pd\n",
        "a=pd.Series([10,20,30,40],name=\"RoLLNO\")\n",
        "print(a)"
      ],
      "metadata": {
        "colab": {
          "base_uri": "https://localhost:8080/"
        },
        "id": "jrt3xeHxTaci",
        "outputId": "2ff5c095-bbe5-4d0c-d7ec-087056799332"
      },
      "execution_count": null,
      "outputs": [
        {
          "output_type": "stream",
          "name": "stdout",
          "text": [
            "0    10\n",
            "1    20\n",
            "2    30\n",
            "3    40\n",
            "Name: RoLLNO, dtype: int64\n"
          ]
        }
      ]
    },
    {
      "cell_type": "code",
      "source": [
        "import pandas as pd\n",
        "a=pd.Series([\"LOKI\",\"MOHAN\",\"GANI\",\"VAMSI\"],name=\"Students\")\n",
        "print(a)"
      ],
      "metadata": {
        "colab": {
          "base_uri": "https://localhost:8080/"
        },
        "id": "RRxso1gKW4x1",
        "outputId": "f59e8622-018c-463c-a0f2-e05bf0810413"
      },
      "execution_count": null,
      "outputs": [
        {
          "output_type": "stream",
          "name": "stdout",
          "text": [
            "0     LOKI\n",
            "1    MOHAN\n",
            "2     GANI\n",
            "3    VAMSI\n",
            "Name: Students, dtype: object\n"
          ]
        }
      ]
    },
    {
      "cell_type": "code",
      "source": [
        "#CREATING SERIES OBJECT BY USING RANGE AND LIST\n",
        "import pandas as pd\n",
        "a=range(100)\n",
        "b=list(a)\n",
        "c=pd.Series(a)\n",
        "print(c)"
      ],
      "metadata": {
        "colab": {
          "base_uri": "https://localhost:8080/"
        },
        "id": "UCtogfLHpdYs",
        "outputId": "02358389-499c-44b0-cc99-f5e2c805e307"
      },
      "execution_count": null,
      "outputs": [
        {
          "output_type": "stream",
          "name": "stdout",
          "text": [
            "0      0\n",
            "1      1\n",
            "2      2\n",
            "3      3\n",
            "4      4\n",
            "      ..\n",
            "95    95\n",
            "96    96\n",
            "97    97\n",
            "98    98\n",
            "99    99\n",
            "Length: 100, dtype: int64\n"
          ]
        }
      ]
    },
    {
      "cell_type": "code",
      "source": [
        "#3.CREATING A SERIES FROM A ARRAY\n",
        "import pandas as pd\n",
        "import numpy as np\n",
        "a=[10,20,30,40,50]\n",
        "b=np.array(a)\n",
        "print(b)\n",
        "print(type(b))\n"
      ],
      "metadata": {
        "colab": {
          "base_uri": "https://localhost:8080/"
        },
        "id": "KKRfGSxmUCwD",
        "outputId": "baa97473-3f39-43a5-e398-b77ee77a9ed3"
      },
      "execution_count": null,
      "outputs": [
        {
          "output_type": "stream",
          "name": "stdout",
          "text": [
            "[10 20 30 40 50]\n",
            "<class 'numpy.ndarray'>\n"
          ]
        }
      ]
    },
    {
      "cell_type": "code",
      "source": [
        "#FINDING DATATYPE OF AN ARRAY\n",
        "import pandas as pd\n",
        "import numpy as np\n",
        "a=(10,20,30,40,50)\n",
        "b=np.array(a)\n",
        "r=list(a)\n",
        "print(b)\n",
        "print(type(a))"
      ],
      "metadata": {
        "colab": {
          "base_uri": "https://localhost:8080/"
        },
        "id": "eQbxHWJnVeCa",
        "outputId": "5397b57a-448d-4486-8c1a-9f5b6ab0dc74"
      },
      "execution_count": null,
      "outputs": [
        {
          "output_type": "stream",
          "name": "stdout",
          "text": [
            "[10 20 30 40 50]\n",
            "<class 'tuple'>\n"
          ]
        }
      ]
    },
    {
      "cell_type": "code",
      "source": [
        "#creating ndarray and passing argument to the Series\n",
        "import pandas as pd\n",
        "import numpy as np\n",
        "a=[10,20,30,40,50]\n",
        "b=np.array(a)\n",
        "c=pd.Series(b)\n",
        "print(c)"
      ],
      "metadata": {
        "colab": {
          "base_uri": "https://localhost:8080/"
        },
        "id": "BSiIkAz1q7al",
        "outputId": "f12e9953-379b-48ca-f209-0add41474c79"
      },
      "execution_count": null,
      "outputs": [
        {
          "output_type": "stream",
          "name": "stdout",
          "text": [
            "0    10\n",
            "1    20\n",
            "2    30\n",
            "3    40\n",
            "4    50\n",
            "dtype: int64\n"
          ]
        }
      ]
    },
    {
      "cell_type": "code",
      "source": [
        "#Creating Series using ndarray\n",
        "##Ex1:\n",
        "import pandas as pd\n",
        "import numpy as np\n",
        "values=['a','b','c','d']\n",
        "data=np.array(values)\n",
        "s=pd.Series(data)\n",
        "print(s)"
      ],
      "metadata": {
        "colab": {
          "base_uri": "https://localhost:8080/"
        },
        "id": "BqYSm-xWrkGq",
        "outputId": "e7e32290-4420-42a3-9039-104a9a1adc4e"
      },
      "execution_count": null,
      "outputs": [
        {
          "output_type": "stream",
          "name": "stdout",
          "text": [
            "0    a\n",
            "1    b\n",
            "2    c\n",
            "3    d\n",
            "dtype: object\n"
          ]
        }
      ]
    },
    {
      "cell_type": "code",
      "source": [
        "##Ex2:\n",
        "import pandas as pd\n",
        "import numpy as np\n",
        "values=[\"loki\",\"mohan\",\"dimple\",\"murari\"]\n",
        "data=np.array(values)\n",
        "s=pd.Series(data)\n",
        "print(s)\n"
      ],
      "metadata": {
        "colab": {
          "base_uri": "https://localhost:8080/"
        },
        "id": "iOTyil9KsUNq",
        "outputId": "592b3b68-41f2-4dc2-fc86-440f0ddc49b9"
      },
      "execution_count": null,
      "outputs": [
        {
          "output_type": "stream",
          "name": "stdout",
          "text": [
            "0      loki\n",
            "1     mohan\n",
            "2    dimple\n",
            "3    murari\n",
            "dtype: object\n"
          ]
        }
      ]
    },
    {
      "cell_type": "code",
      "source": [
        "#----------------INDEX IN SERIES----------------------#\n",
        "#Creating Series object and giving name and index\n",
        "##Ex1:\n",
        "import pandas as pd\n",
        "a=[156,123,86,62,76]\n",
        "i=[10,20,30,40,50]\n",
        "b=pd.Series(a,name=\"Marks\",index=i)\n",
        "print(b)\n"
      ],
      "metadata": {
        "colab": {
          "base_uri": "https://localhost:8080/"
        },
        "id": "jDHU0A1UtOTI",
        "outputId": "d582ac99-0cc6-4108-e0d6-2ad2b84c4de1"
      },
      "execution_count": null,
      "outputs": [
        {
          "output_type": "stream",
          "name": "stdout",
          "text": [
            "10    156\n",
            "20    123\n",
            "30     86\n",
            "40     62\n",
            "50     76\n",
            "Name: Marks, dtype: int64\n"
          ]
        }
      ]
    },
    {
      "cell_type": "code",
      "source": [
        "#Ex2:\n",
        "import pandas as pd\n",
        "Prices=[50000,75000,90000,120000]\n",
        "Products=[\"Lenovo\",\"Dell\",\"Honor\",\"MacBook\"]\n",
        "b=pd.Series(Prices,name=\"Laptops\",index=Products)\n",
        "print(b)\n"
      ],
      "metadata": {
        "colab": {
          "base_uri": "https://localhost:8080/"
        },
        "id": "OGs-r3MOucs3",
        "outputId": "5e9cfa2e-cbaf-4d7b-ab66-38718c5d5246"
      },
      "execution_count": null,
      "outputs": [
        {
          "output_type": "stream",
          "name": "stdout",
          "text": [
            "Lenovo      50000\n",
            "Dell        75000\n",
            "Honor       90000\n",
            "MacBook    120000\n",
            "Name: Laptops, dtype: int64\n"
          ]
        }
      ]
    },
    {
      "cell_type": "code",
      "source": [
        "##Ex3:\n",
        "import pandas as pd\n",
        "sales=pd.Series([2000,6000,4500,7100,3600],index=[\"jan\",\"feb\",\"mar\",\"apr\",\"may\"])\n",
        "print(sales)"
      ],
      "metadata": {
        "colab": {
          "base_uri": "https://localhost:8080/"
        },
        "id": "kjmU-NVr6yga",
        "outputId": "26f56b8e-5c42-423b-96db-b76e57cd734f"
      },
      "execution_count": null,
      "outputs": [
        {
          "output_type": "stream",
          "name": "stdout",
          "text": [
            "jan    2000\n",
            "feb    6000\n",
            "mar    4500\n",
            "apr    7100\n",
            "may    3600\n",
            "dtype: int64\n"
          ]
        }
      ]
    },
    {
      "cell_type": "code",
      "source": [
        "#-----Accessing values in Series------#\n",
        "##Ex:1\n",
        "import pandas as pd\n",
        "a=[45,61,85,33,54]\n",
        "b=pd.Series(a,name=\"Marks\")\n",
        "print(b)\n",
        "print()\n",
        "print(b[0])\n",
        "print(b[1])\n"
      ],
      "metadata": {
        "colab": {
          "base_uri": "https://localhost:8080/"
        },
        "id": "A44scIW-vjZT",
        "outputId": "d39d6375-70a1-44d2-870c-abd8c7712aaf"
      },
      "execution_count": null,
      "outputs": [
        {
          "output_type": "stream",
          "name": "stdout",
          "text": [
            "0    45\n",
            "1    61\n",
            "2    85\n",
            "3    33\n",
            "4    54\n",
            "Name: Marks, dtype: int64\n",
            "\n",
            "45\n",
            "61\n"
          ]
        }
      ]
    },
    {
      "cell_type": "code",
      "source": [
        "##Ex:2\n",
        "import pandas as pd\n",
        "Prices=[50000,75000,90000,120000]\n",
        "Products=[\"Lenovo\",\"Dell\",\"Honor\",\"MacBook\"]\n",
        "b=pd.Series(Prices,name=\"Laptops\",index=Products)\n",
        "print(b)\n",
        "print()\n",
        "print(b[\"Lenovo\"])\n",
        "print(b[\"MacBook\"])\n",
        "\n",
        "\n"
      ],
      "metadata": {
        "colab": {
          "base_uri": "https://localhost:8080/"
        },
        "id": "BZVwoKmlwkKM",
        "outputId": "d3eb2ba3-0871-448b-fde3-45531af2ea72"
      },
      "execution_count": null,
      "outputs": [
        {
          "output_type": "stream",
          "name": "stdout",
          "text": [
            "Lenovo      50000\n",
            "Dell        75000\n",
            "Honor       90000\n",
            "MacBook    120000\n",
            "Name: Laptops, dtype: int64\n",
            "\n",
            "50000\n",
            "120000\n"
          ]
        }
      ]
    },
    {
      "cell_type": "code",
      "source": [
        "###---Finding values in Dictionary using Series----####\n",
        "#Ex:1\n",
        "import pandas as pd\n",
        "emp_data={\"idno\":250,\"name\":\"loki\",\"salary\":25000.00}\n",
        "s=pd.Series(emp_data)\n",
        "print(s.iloc[0])\n",
        "print(s.iloc[1])\n",
        "print(s.iloc[2])\n"
      ],
      "metadata": {
        "colab": {
          "base_uri": "https://localhost:8080/"
        },
        "id": "LocJ73QbRU12",
        "outputId": "70e0e942-cb7d-4256-eaea-d463167be9a1"
      },
      "execution_count": null,
      "outputs": [
        {
          "output_type": "stream",
          "name": "stdout",
          "text": [
            "250\n",
            "loki\n",
            "25000.0\n"
          ]
        }
      ]
    },
    {
      "cell_type": "code",
      "source": [
        "#Ex2:Key not Available Sometimes\n",
        "import pandas as pd\n",
        "emp_data={\"idno\":250,\"name\":\"loki\",\"salary\":25000.00}\n",
        "s=pd.Series(emp_data)\n",
        "data=s.get([\"deptno\"],\"Not a key\")\n",
        "print(data)\n"
      ],
      "metadata": {
        "colab": {
          "base_uri": "https://localhost:8080/"
        },
        "id": "BjW-7w80UDmU",
        "outputId": "e1218d78-6ec0-4348-eed3-78de09647a05"
      },
      "execution_count": null,
      "outputs": [
        {
          "output_type": "stream",
          "name": "stdout",
          "text": [
            "Not a key\n"
          ]
        }
      ]
    },
    {
      "cell_type": "code",
      "source": [
        "##---- Getting Top Rows using Series ------##\n",
        "import pandas as pd\n",
        "emp_data={\"name\":\"lokesh\",\"age\":22,\"job\":\"data scientist\"}\n",
        "s=pd.Series(emp_data)\n",
        "print(s.head(2))\n"
      ],
      "metadata": {
        "colab": {
          "base_uri": "https://localhost:8080/"
        },
        "id": "XHhT18XDUp8l",
        "outputId": "b3f18880-3fa1-44cd-f202-7f1c2e76fa42"
      },
      "execution_count": null,
      "outputs": [
        {
          "output_type": "stream",
          "name": "stdout",
          "text": [
            "name    lokesh\n",
            "age         22\n",
            "dtype: object\n"
          ]
        }
      ]
    },
    {
      "cell_type": "code",
      "source": [
        "##------Getting The Bottom Rows Using Series-------##\n",
        "import pandas as pd\n",
        "student_data={\"name\":\"lokesh\",\"class\":12,\"RollNo\":33,\"Branch\":\"MPC\"}\n",
        "s=pd.Series(student_data)\n",
        "print(s.tail(3))\n"
      ],
      "metadata": {
        "id": "mAVneQcazUyZ",
        "colab": {
          "base_uri": "https://localhost:8080/"
        },
        "outputId": "ae44b34a-d5cb-42d6-f1d9-28dac4a0fd30"
      },
      "execution_count": null,
      "outputs": [
        {
          "output_type": "stream",
          "name": "stdout",
          "text": [
            "class      12\n",
            "RollNo     33\n",
            "Branch    MPC\n",
            "dtype: object\n"
          ]
        }
      ]
    },
    {
      "cell_type": "code",
      "source": [
        "##---------NaN Using in Series--------------##\n",
        "import pandas as pd\n",
        "sales=pd.Series([100,np.nan,300,400,500],index=[\"jan\",\"feb\",\"march\",\"april\",\"march\"],name=\"data\")\n",
        "print(sales)\n",
        "print(sales.hasnans)\n",
        "print(sales.ndim)\n",
        "print(sales.shape)\n"
      ],
      "metadata": {
        "colab": {
          "base_uri": "https://localhost:8080/"
        },
        "id": "6mqYKs4ybIfw",
        "outputId": "0d5ae45c-6616-43ff-a4cd-e33f05e4b018"
      },
      "execution_count": null,
      "outputs": [
        {
          "output_type": "stream",
          "name": "stdout",
          "text": [
            "jan      100.0\n",
            "feb        NaN\n",
            "march    300.0\n",
            "april    400.0\n",
            "march    500.0\n",
            "Name: data, dtype: float64\n",
            "True\n",
            "1\n",
            "(5,)\n"
          ]
        }
      ]
    },
    {
      "cell_type": "code",
      "source": [
        "##---------NaN Using in Series--------------##\n",
        "#Ex:1 Creating Series using with NaN valus\n",
        "import pandas as pd\n",
        "import numpy as np\n",
        "marks=[89,45,23,np.nan,78,np.nan,45]\n",
        "a=pd.Series(marks)\n",
        "print(a)"
      ],
      "metadata": {
        "colab": {
          "base_uri": "https://localhost:8080/"
        },
        "id": "4ONa4ep5wXTd",
        "outputId": "9ebf95de-01d9-4eee-bc45-7b99413d38c0"
      },
      "execution_count": null,
      "outputs": [
        {
          "output_type": "stream",
          "name": "stdout",
          "text": [
            "0    89.0\n",
            "1    45.0\n",
            "2    23.0\n",
            "3     NaN\n",
            "4    78.0\n",
            "5     NaN\n",
            "6    45.0\n",
            "dtype: float64\n"
          ]
        }
      ]
    },
    {
      "cell_type": "code",
      "source": [
        "#Ex:2\n",
        "import pandas as pd\n",
        "import numpy as np\n",
        "names=[\"Loki\",\"Mohan\",np.nan,\"Ganesh\",\"Murari\"]\n",
        "a=pd.Series(names)\n",
        "print(a)"
      ],
      "metadata": {
        "colab": {
          "base_uri": "https://localhost:8080/"
        },
        "id": "jv0UhXRTxiNm",
        "outputId": "72a79752-3d26-4876-adb0-e0bd02115fe0"
      },
      "execution_count": null,
      "outputs": [
        {
          "output_type": "stream",
          "name": "stdout",
          "text": [
            "0      Loki\n",
            "1     Mohan\n",
            "2       NaN\n",
            "3    Ganesh\n",
            "4    Murari\n",
            "dtype: object\n"
          ]
        }
      ]
    },
    {
      "cell_type": "code",
      "source": [
        "#-----------------------4. PANDAS – SERIES - ATTRIBUTES ------------------------#\n",
        "##1.Values\n",
        "#Ex:1\n",
        "import pandas as pd\n",
        "import numpy as np\n",
        "marks=[46,78,52,63,36]\n",
        "a=pd.Series(marks)\n",
        "print(a)\n",
        "print(a.values)\n"
      ],
      "metadata": {
        "colab": {
          "base_uri": "https://localhost:8080/"
        },
        "id": "an6wpfk_y4z2",
        "outputId": "080bc1c4-584e-42cf-a006-b2ece7c92d6f"
      },
      "execution_count": null,
      "outputs": [
        {
          "output_type": "stream",
          "name": "stdout",
          "text": [
            "0    46\n",
            "1    78\n",
            "2    52\n",
            "3    63\n",
            "4    36\n",
            "dtype: int64\n",
            "[46 78 52 63 36]\n"
          ]
        }
      ]
    },
    {
      "cell_type": "code",
      "source": [
        "#Ex:2\n",
        "import pandas as pd\n",
        "import numpy as np\n",
        "names=[\"Loki\",\"Mohan\",\"Gani\",\"Murari\"]\n",
        "a=pd.Series(names)\n",
        "print(a)\n",
        "print(a.values)"
      ],
      "metadata": {
        "colab": {
          "base_uri": "https://localhost:8080/"
        },
        "id": "fqOCwcRG1EkQ",
        "outputId": "6e097fd9-085c-49de-f5e1-9641fbca5b8d"
      },
      "execution_count": null,
      "outputs": [
        {
          "output_type": "stream",
          "name": "stdout",
          "text": [
            "0      Loki\n",
            "1     Mohan\n",
            "2      Gani\n",
            "3    Murari\n",
            "dtype: object\n",
            "['Loki' 'Mohan' 'Gani' 'Murari']\n"
          ]
        }
      ]
    },
    {
      "cell_type": "code",
      "source": [
        "#Ex:3\n",
        "import pandas as pd\n",
        "import numpy as np\n",
        "prices=[95.4,782.4,451.2,585.4]\n",
        "a=pd.Series(prices)\n",
        "print(a)\n",
        "print(a.values)"
      ],
      "metadata": {
        "colab": {
          "base_uri": "https://localhost:8080/"
        },
        "id": "0JZ3aiph1vUb",
        "outputId": "16f1eddc-5f01-4722-bcc0-bcb2d22c5aa5"
      },
      "execution_count": null,
      "outputs": [
        {
          "output_type": "stream",
          "name": "stdout",
          "text": [
            "0     95.4\n",
            "1    782.4\n",
            "2    451.2\n",
            "3    585.4\n",
            "dtype: float64\n",
            "[ 95.4 782.4 451.2 585.4]\n"
          ]
        }
      ]
    },
    {
      "cell_type": "code",
      "source": [
        "##2.INDEX\n",
        "#EX:1\n",
        "import pandas as pd\n",
        "import numpy as np\n",
        "scores=[24,31,15,27,19]\n",
        "a=pd.Series(scores)\n",
        "print(a)\n",
        "print(a.index)"
      ],
      "metadata": {
        "colab": {
          "base_uri": "https://localhost:8080/"
        },
        "id": "n3DTc5eT2nKp",
        "outputId": "89c46784-f5aa-4233-9052-7a23c56720b2"
      },
      "execution_count": null,
      "outputs": [
        {
          "output_type": "stream",
          "name": "stdout",
          "text": [
            "0    24\n",
            "1    31\n",
            "2    15\n",
            "3    27\n",
            "4    19\n",
            "dtype: int64\n",
            "RangeIndex(start=0, stop=5, step=1)\n"
          ]
        }
      ]
    },
    {
      "cell_type": "code",
      "source": [
        "#EX:2\n",
        "import pandas as pd\n",
        "import numpy as np\n",
        "scores=[24,31,15,27,19]\n",
        "i=[1,2,3,4,5]\n",
        "a=pd.Series(scores,index=i)\n",
        "print(a)\n",
        "print(a.index)\n",
        "\n"
      ],
      "metadata": {
        "colab": {
          "base_uri": "https://localhost:8080/"
        },
        "id": "0PBTFpfO3RVc",
        "outputId": "16e1870e-ce85-4106-ebfa-a7ade73881a2"
      },
      "execution_count": null,
      "outputs": [
        {
          "output_type": "stream",
          "name": "stdout",
          "text": [
            "1    24\n",
            "2    31\n",
            "3    15\n",
            "4    27\n",
            "5    19\n",
            "dtype: int64\n",
            "Index([1, 2, 3, 4, 5], dtype='int64')\n"
          ]
        }
      ]
    },
    {
      "cell_type": "code",
      "source": [
        "#EX:3\n",
        "import pandas as pd\n",
        "import numpy as np\n",
        "rates=[52.3,86,78,45,12]\n",
        "i=[1,2,3,4,5]\n",
        "a=pd.Series(rates,index=i)\n",
        "print(a)\n",
        "print(a.index)\n"
      ],
      "metadata": {
        "colab": {
          "base_uri": "https://localhost:8080/"
        },
        "id": "W4KfuAbt4vOP",
        "outputId": "d5765fc0-d77f-4b7d-871e-294fcdb5b8fc"
      },
      "execution_count": null,
      "outputs": [
        {
          "output_type": "stream",
          "name": "stdout",
          "text": [
            "1    52.3\n",
            "2    86.0\n",
            "3    78.0\n",
            "4    45.0\n",
            "5    12.0\n",
            "dtype: float64\n",
            "Index([1, 2, 3, 4, 5], dtype='int64')\n"
          ]
        }
      ]
    },
    {
      "cell_type": "code",
      "source": [
        "#EX:4\n",
        "import pandas as pd\n",
        "import numpy as np\n",
        "names=[\"Loki\",\"Mohan\",\"Gani\",\"Murari\"]\n",
        "index=[31,32,33,34]\n",
        "a=pd.Series(names,index=index)\n",
        "print(a)\n",
        "print(a.index)"
      ],
      "metadata": {
        "colab": {
          "base_uri": "https://localhost:8080/"
        },
        "id": "BHB9Jf9C5zPP",
        "outputId": "d256f70c-e75d-4092-8d99-c294dfd19848"
      },
      "execution_count": null,
      "outputs": [
        {
          "output_type": "stream",
          "name": "stdout",
          "text": [
            "31      Loki\n",
            "32     Mohan\n",
            "33      Gani\n",
            "34    Murari\n",
            "dtype: object\n",
            "Index([31, 32, 33, 34], dtype='int64')\n"
          ]
        }
      ]
    },
    {
      "cell_type": "code",
      "source": [
        "#EX:5\n",
        "import pandas as pd\n",
        "import numpy as np\n",
        "values=[10,20,30,40,50,60,70,80]\n",
        "index=pd.RangeIndex(start=0,stop=16,step=2)\n",
        "a=pd.Series(values,index=index)\n",
        "print(a)\n",
        "print(a.index)\n",
        "\n",
        "\n"
      ],
      "metadata": {
        "colab": {
          "base_uri": "https://localhost:8080/"
        },
        "id": "h9q4qg8f6vXF",
        "outputId": "d4c2d3c3-c0ed-4052-e41f-724b603a8487"
      },
      "execution_count": null,
      "outputs": [
        {
          "output_type": "stream",
          "name": "stdout",
          "text": [
            "0     10\n",
            "2     20\n",
            "4     30\n",
            "6     40\n",
            "8     50\n",
            "10    60\n",
            "12    70\n",
            "14    80\n",
            "dtype: int64\n",
            "RangeIndex(start=0, stop=16, step=2)\n"
          ]
        }
      ]
    },
    {
      "cell_type": "code",
      "source": [
        "##3.DTYPES(DATATYPES)\n",
        "#EX:1\n",
        "import pandas as pd\n",
        "import numpy as np\n",
        "scores=[47,51,75,63,83,60]\n",
        "a=pd.Series(scores)\n",
        "print(a)\n",
        "print(a.dtype)"
      ],
      "metadata": {
        "colab": {
          "base_uri": "https://localhost:8080/"
        },
        "id": "1TeqNlJ19urY",
        "outputId": "b7f85562-8470-413b-fbc8-e02d3e08582a"
      },
      "execution_count": null,
      "outputs": [
        {
          "output_type": "stream",
          "name": "stdout",
          "text": [
            "0    47\n",
            "1    51\n",
            "2    75\n",
            "3    63\n",
            "4    83\n",
            "5    60\n",
            "dtype: int64\n",
            "int64\n"
          ]
        }
      ]
    },
    {
      "cell_type": "code",
      "source": [
        "#EX:2\n",
        "import pandas as pd\n",
        "import numpy as np\n",
        "rates=[54.7,64.8,85.4,76.2,45.7]\n",
        "a=pd.Series(rates)\n",
        "print(a)\n",
        "print(a.dtype)"
      ],
      "metadata": {
        "colab": {
          "base_uri": "https://localhost:8080/"
        },
        "id": "IyADe5hO-P0P",
        "outputId": "3e023ac4-f008-42f5-e92f-bc681c3cbfda"
      },
      "execution_count": null,
      "outputs": [
        {
          "output_type": "stream",
          "name": "stdout",
          "text": [
            "0    54.7\n",
            "1    64.8\n",
            "2    85.4\n",
            "3    76.2\n",
            "4    45.7\n",
            "dtype: float64\n",
            "float64\n"
          ]
        }
      ]
    },
    {
      "cell_type": "code",
      "source": [
        "#EX:3\n",
        "import pandas as pd\n",
        "import numpy as np\n",
        "employees=[\"Lokesh\",\"Mohan\",\"Murari\",\"Gani\"]\n",
        "a=pd.Series(employees)\n",
        "print(a)\n",
        "print(a.dtype)"
      ],
      "metadata": {
        "colab": {
          "base_uri": "https://localhost:8080/"
        },
        "id": "B2XmPcCH-sOv",
        "outputId": "043c0889-2d9d-4fff-eb37-29571900212b"
      },
      "execution_count": null,
      "outputs": [
        {
          "output_type": "stream",
          "name": "stdout",
          "text": [
            "0    Lokesh\n",
            "1     Mohan\n",
            "2    Murari\n",
            "3      Gani\n",
            "dtype: object\n",
            "object\n"
          ]
        }
      ]
    },
    {
      "cell_type": "code",
      "source": [
        "##4.SIZE\n",
        "#EX:1\n",
        "import pandas as pd\n",
        "import numpy as np\n",
        "marks=[73,59,31,25,13,40,70]\n",
        "a=pd.Series(marks)\n",
        "print(a)\n",
        "print(a.size)"
      ],
      "metadata": {
        "colab": {
          "base_uri": "https://localhost:8080/"
        },
        "id": "tAQnVYF3_W45",
        "outputId": "6ef14295-5c5c-42ec-df78-d2795b13f7af"
      },
      "execution_count": null,
      "outputs": [
        {
          "output_type": "stream",
          "name": "stdout",
          "text": [
            "0    73\n",
            "1    59\n",
            "2    31\n",
            "3    25\n",
            "4    13\n",
            "5    40\n",
            "6    70\n",
            "dtype: int64\n",
            "7\n"
          ]
        }
      ]
    },
    {
      "cell_type": "code",
      "source": [
        "#EX:2\n",
        "import pandas as pd\n",
        "import numpy as np\n",
        "names=[\"Lokesh\",\"Tarun\",\"Babi\",\"Nani\"]\n",
        "a=pd.Series(names)\n",
        "print(a)\n",
        "print(a.size)"
      ],
      "metadata": {
        "colab": {
          "base_uri": "https://localhost:8080/"
        },
        "id": "KcxAn5MS_30e",
        "outputId": "703bce11-ade7-49c1-c2a8-486654e00927"
      },
      "execution_count": null,
      "outputs": [
        {
          "output_type": "stream",
          "name": "stdout",
          "text": [
            "0    Lokesh\n",
            "1     Tarun\n",
            "2      Babi\n",
            "3      Nani\n",
            "dtype: object\n",
            "4\n"
          ]
        }
      ]
    },
    {
      "cell_type": "code",
      "source": [
        "#----------------------5.PANDAS- Series- Methods-------------------#\n",
        "#1.head()\n",
        "import pandas as pd\n",
        "import numpy as np\n",
        "scores=[28,53,90,23,57,16]\n",
        "a=pd.Series(scores)\n",
        "print(a)\n",
        "print()\n",
        "print(a.head())\n",
        "print()\n",
        "print(a.head(3))\n"
      ],
      "metadata": {
        "colab": {
          "base_uri": "https://localhost:8080/"
        },
        "id": "6ZXebI6UAVrR",
        "outputId": "d6446703-df61-4f1a-c2e0-8bb7962529c5"
      },
      "execution_count": null,
      "outputs": [
        {
          "output_type": "stream",
          "name": "stdout",
          "text": [
            "0    28\n",
            "1    53\n",
            "2    90\n",
            "3    23\n",
            "4    57\n",
            "5    16\n",
            "dtype: int64\n",
            "\n",
            "0    28\n",
            "1    53\n",
            "2    90\n",
            "3    23\n",
            "4    57\n",
            "dtype: int64\n",
            "\n",
            "0    28\n",
            "1    53\n",
            "2    90\n",
            "dtype: int64\n"
          ]
        }
      ]
    },
    {
      "cell_type": "code",
      "source": [
        "##2.tail()\n",
        "import pandas as pd\n",
        "import numpy as np\n",
        "scores=[28,53,90,23,57,16]\n",
        "a=pd.Series(scores)\n",
        "print(a)\n",
        "print()\n",
        "print(a.tail())\n",
        "print()\n",
        "print(a.tail(4))"
      ],
      "metadata": {
        "colab": {
          "base_uri": "https://localhost:8080/"
        },
        "id": "PzjRkL4ABw9b",
        "outputId": "c17182f1-a79c-411e-edef-51870604af03"
      },
      "execution_count": null,
      "outputs": [
        {
          "output_type": "stream",
          "name": "stdout",
          "text": [
            "0    28\n",
            "1    53\n",
            "2    90\n",
            "3    23\n",
            "4    57\n",
            "5    16\n",
            "dtype: int64\n",
            "\n",
            "1    53\n",
            "2    90\n",
            "3    23\n",
            "4    57\n",
            "5    16\n",
            "dtype: int64\n",
            "\n",
            "2    90\n",
            "3    23\n",
            "4    57\n",
            "5    16\n",
            "dtype: int64\n"
          ]
        }
      ]
    },
    {
      "cell_type": "code",
      "source": [
        "##3.SUM()\n",
        "#EX:1\n",
        "import pandas as pd\n",
        "import numpy as np\n",
        "scores=[28,53,90,23,57,16]\n",
        "a=pd.Series(scores)\n",
        "print(a)\n",
        "print()\n",
        "print(a.sum())"
      ],
      "metadata": {
        "colab": {
          "base_uri": "https://localhost:8080/"
        },
        "id": "VVo0nyAkCN8m",
        "outputId": "2b14048a-1187-48db-ccfd-6efd6a8ee98d"
      },
      "execution_count": null,
      "outputs": [
        {
          "output_type": "stream",
          "name": "stdout",
          "text": [
            "0    28\n",
            "1    53\n",
            "2    90\n",
            "3    23\n",
            "4    57\n",
            "5    16\n",
            "dtype: int64\n",
            "\n",
            "267\n"
          ]
        }
      ]
    },
    {
      "cell_type": "code",
      "source": [
        "#EX:2\n",
        "import pandas as pd\n",
        "import numpy as np\n",
        "scores=[42,75,np.nan,23,45,np.nan,43]\n",
        "a=pd.Series(scores)\n",
        "print(a)\n",
        "print()\n",
        "print(a.sum())"
      ],
      "metadata": {
        "colab": {
          "base_uri": "https://localhost:8080/"
        },
        "id": "xi5krD20CkJr",
        "outputId": "f827d51a-4215-4b7e-f891-e1c1290274a8"
      },
      "execution_count": null,
      "outputs": [
        {
          "output_type": "stream",
          "name": "stdout",
          "text": [
            "0    42.0\n",
            "1    75.0\n",
            "2     NaN\n",
            "3    23.0\n",
            "4    45.0\n",
            "5     NaN\n",
            "6    43.0\n",
            "dtype: float64\n",
            "\n",
            "228.0\n"
          ]
        }
      ]
    },
    {
      "cell_type": "code",
      "source": [
        "##4.COUNT()\n",
        "import pandas as pd\n",
        "import numpy as np\n",
        "scores=[28,53,90,23,57,16,19]\n",
        "a=pd.Series(scores)\n",
        "print(a)\n",
        "print(a.count())"
      ],
      "metadata": {
        "colab": {
          "base_uri": "https://localhost:8080/"
        },
        "id": "E-4kt5i-D8pG",
        "outputId": "c3c9d207-575a-473a-bf0f-49ea1cec9e87"
      },
      "execution_count": null,
      "outputs": [
        {
          "output_type": "stream",
          "name": "stdout",
          "text": [
            "0    28\n",
            "1    53\n",
            "2    90\n",
            "3    23\n",
            "4    57\n",
            "5    16\n",
            "6    19\n",
            "dtype: int64\n",
            "7\n"
          ]
        }
      ]
    },
    {
      "cell_type": "code",
      "source": [
        "##5.MEAN()\n",
        "import pandas as pd\n",
        "import numpy as np\n",
        "scores=[28,53,90,23,57,16,19]\n",
        "a=pd.Series(scores)\n",
        "print(a)\n",
        "print()\n",
        "print(a.mean())"
      ],
      "metadata": {
        "colab": {
          "base_uri": "https://localhost:8080/"
        },
        "id": "K_JfISByEXVM",
        "outputId": "0e984d37-1a17-4f27-f3d2-2ff5cf622a86"
      },
      "execution_count": null,
      "outputs": [
        {
          "output_type": "stream",
          "name": "stdout",
          "text": [
            "0    28\n",
            "1    53\n",
            "2    90\n",
            "3    23\n",
            "4    57\n",
            "5    16\n",
            "6    19\n",
            "dtype: int64\n",
            "\n",
            "40.857142857142854\n"
          ]
        }
      ]
    },
    {
      "cell_type": "code",
      "source": [
        "#MEDIAN\n",
        "import pandas as pd\n",
        "import numpy as np\n",
        "scores=[10,25,37,45,56]\n",
        "a=pd.Series(scores)\n",
        "print(a)\n",
        "print()\n",
        "print(a.median())\n"
      ],
      "metadata": {
        "colab": {
          "base_uri": "https://localhost:8080/"
        },
        "id": "Rl53QNLYE--G",
        "outputId": "cebdd06b-3a2c-4b25-d73a-bf36e7b17fb6"
      },
      "execution_count": null,
      "outputs": [
        {
          "output_type": "stream",
          "name": "stdout",
          "text": [
            "0    10\n",
            "1    25\n",
            "2    37\n",
            "3    45\n",
            "4    56\n",
            "dtype: int64\n",
            "\n",
            "37.0\n"
          ]
        }
      ]
    },
    {
      "cell_type": "code",
      "source": [
        "#MODE\n",
        "import pandas as pd\n",
        "import numpy as np\n",
        "scores=[10,20,30,40,20,50,20]\n",
        "a=pd.Series(scores)\n",
        "print(a)\n",
        "print()\n",
        "print(a.mode())"
      ],
      "metadata": {
        "colab": {
          "base_uri": "https://localhost:8080/"
        },
        "id": "cdzy7kk8FS_D",
        "outputId": "85a40a6c-0105-4f3e-da50-bf4d65cd5ca2"
      },
      "execution_count": null,
      "outputs": [
        {
          "output_type": "stream",
          "name": "stdout",
          "text": [
            "0    10\n",
            "1    20\n",
            "2    30\n",
            "3    40\n",
            "4    20\n",
            "5    50\n",
            "6    20\n",
            "dtype: int64\n",
            "\n",
            "0    20\n",
            "dtype: int64\n"
          ]
        }
      ]
    },
    {
      "cell_type": "code",
      "source": [
        "##6.DESCRIBE()\n",
        "import pandas as pd\n",
        "import numpy as np\n",
        "scores=[10,20,30,40,50]\n",
        "a=pd.Series(scores)\n",
        "print(a)\n",
        "print()\n",
        "print(a.describe())"
      ],
      "metadata": {
        "colab": {
          "base_uri": "https://localhost:8080/"
        },
        "id": "16ljQvNyFoMq",
        "outputId": "f222f9c7-d249-497b-a646-2315e53cbe36"
      },
      "execution_count": null,
      "outputs": [
        {
          "output_type": "stream",
          "name": "stdout",
          "text": [
            "0    10\n",
            "1    20\n",
            "2    30\n",
            "3    40\n",
            "4    50\n",
            "dtype: int64\n",
            "\n",
            "count     5.000000\n",
            "mean     30.000000\n",
            "std      15.811388\n",
            "min      10.000000\n",
            "25%      20.000000\n",
            "50%      30.000000\n",
            "75%      40.000000\n",
            "max      50.000000\n",
            "dtype: float64\n"
          ]
        }
      ]
    },
    {
      "cell_type": "code",
      "source": [
        "##7.UNIQUE()\n",
        "import pandas as pd\n",
        "import numpy as np\n",
        "scores=[12,25,17,12,27,12,20]\n",
        "a=pd.Series(scores)\n",
        "print(a)\n",
        "print()\n",
        "print(a.unique())"
      ],
      "metadata": {
        "colab": {
          "base_uri": "https://localhost:8080/"
        },
        "id": "feP9g3JTGJ4Q",
        "outputId": "eb638df7-71b7-41b6-9fd2-192f694bff12"
      },
      "execution_count": null,
      "outputs": [
        {
          "output_type": "stream",
          "name": "stdout",
          "text": [
            "0    12\n",
            "1    25\n",
            "2    17\n",
            "3    12\n",
            "4    27\n",
            "5    12\n",
            "6    20\n",
            "dtype: int64\n",
            "\n",
            "[12 25 17 27 20]\n"
          ]
        }
      ]
    },
    {
      "cell_type": "code",
      "source": [
        "##8.nunique\n",
        "import pandas as pd\n",
        "import numpy as np\n",
        "scores=[12,25,17,12,27,12,20]\n",
        "a=pd.Series(scores)\n",
        "print(a)\n",
        "print()\n",
        "print(a.nunique())\n",
        "\n"
      ],
      "metadata": {
        "colab": {
          "base_uri": "https://localhost:8080/"
        },
        "id": "rHPx0YaKGrV4",
        "outputId": "2dc0423a-7397-4667-a3f7-8403f5c3455f"
      },
      "execution_count": null,
      "outputs": [
        {
          "output_type": "stream",
          "name": "stdout",
          "text": [
            "0    12\n",
            "1    25\n",
            "2    17\n",
            "3    12\n",
            "4    27\n",
            "5    12\n",
            "6    20\n",
            "dtype: int64\n",
            "\n",
            "5\n"
          ]
        }
      ]
    },
    {
      "cell_type": "code",
      "source": [
        "###################################  PANDAS-2.DATAFRAMES ############################################\n",
        "#1. Creating an Empty DataFrame\n",
        "import pandas as pd\n",
        "df=pd.DataFrame()\n",
        "print(df)"
      ],
      "metadata": {
        "colab": {
          "base_uri": "https://localhost:8080/"
        },
        "id": "eJnbV4YL8uEy",
        "outputId": "2d33b56c-16da-4569-f8c0-86cd7fb2177b"
      },
      "execution_count": 1,
      "outputs": [
        {
          "output_type": "stream",
          "name": "stdout",
          "text": [
            "Empty DataFrame\n",
            "Columns: []\n",
            "Index: []\n"
          ]
        }
      ]
    },
    {
      "cell_type": "code",
      "source": [
        "#2. Create a DataFrame by using list\n",
        "#EX:1\n",
        "import pandas as pd\n",
        "marks=[78,45,62,97,24,51]\n",
        "df=pd.DataFrame(marks)\n",
        "print(df)\n"
      ],
      "metadata": {
        "colab": {
          "base_uri": "https://localhost:8080/"
        },
        "id": "DfJ1szn6ENg6",
        "outputId": "dbbad64b-e763-41d5-817e-4777051494ec"
      },
      "execution_count": 4,
      "outputs": [
        {
          "output_type": "stream",
          "name": "stdout",
          "text": [
            "    0\n",
            "0  78\n",
            "1  45\n",
            "2  62\n",
            "3  97\n",
            "4  24\n",
            "5  51\n"
          ]
        }
      ]
    },
    {
      "cell_type": "code",
      "source": [
        "#EX:2\n",
        "import pandas as pd\n",
        "data=[78,45,62,97,24,51]\n",
        "df=pd.DataFrame(data,columns=[\"Marks\"])\n",
        "print(df)"
      ],
      "metadata": {
        "colab": {
          "base_uri": "https://localhost:8080/"
        },
        "id": "6dUN64itFJT6",
        "outputId": "f0574713-ed39-4490-85e0-cf5ea190889c"
      },
      "execution_count": 5,
      "outputs": [
        {
          "output_type": "stream",
          "name": "stdout",
          "text": [
            "   Marks\n",
            "0     78\n",
            "1     45\n",
            "2     62\n",
            "3     97\n",
            "4     24\n",
            "5     51\n"
          ]
        }
      ]
    },
    {
      "cell_type": "code",
      "source": [
        "#3.Creating a DataFrame from a List of Lists\n",
        "import pandas as pd\n",
        "data=[\n",
        "    ['loki',23,96],\n",
        "    ['mohan',22,89],\n",
        "    ['dimple',20,87],\n",
        "    ['murari',21,91]\n",
        "]\n",
        "df=pd.DataFrame(data,columns=[\"Name\",\"Age\",\"Marks\"])\n",
        "print(df)"
      ],
      "metadata": {
        "colab": {
          "base_uri": "https://localhost:8080/"
        },
        "id": "1JYMM0x5FilQ",
        "outputId": "4cc2ef5e-24fb-4215-fb68-b3ece7f9f780"
      },
      "execution_count": 6,
      "outputs": [
        {
          "output_type": "stream",
          "name": "stdout",
          "text": [
            "     Name  Age  Marks\n",
            "0    loki   23     96\n",
            "1   mohan   22     89\n",
            "2  dimple   20     87\n",
            "3  murari   21     91\n"
          ]
        }
      ]
    },
    {
      "cell_type": "code",
      "source": [
        "#4.Creating a DataFrame from a Dictionary\n",
        "import pandas as pd\n",
        "data={\n",
        "     'Name':['loki','mohan','dimple','murari'],\n",
        "     'Age':[23,22,20,21],\n",
        "     'Marks':[96,89,87,91]\n",
        "}\n",
        "df=pd.DataFrame(data)\n",
        "print(df)"
      ],
      "metadata": {
        "colab": {
          "base_uri": "https://localhost:8080/"
        },
        "id": "jrwLAyxD6MGk",
        "outputId": "b86ce81b-193e-4d26-e325-5d7665cebaf9"
      },
      "execution_count": null,
      "outputs": [
        {
          "output_type": "stream",
          "name": "stdout",
          "text": [
            "     Name  Age  Marks\n",
            "0    loki   23     96\n",
            "1   mohan   22     89\n",
            "2  dimple   20     87\n",
            "3  murari   21     91\n"
          ]
        }
      ]
    },
    {
      "cell_type": "code",
      "source": [
        "#5.Import csv file using Pandas\n",
        "from google.colab import files\n",
        "uploaded = files.upload()\n",
        "import pandas as pd\n",
        "df=pd.read_csv(\"Company Sales Data 2020.csv\")\n",
        "print(df)"
      ],
      "metadata": {
        "colab": {
          "base_uri": "https://localhost:8080/",
          "height": 541
        },
        "id": "cPFNBRPPXJZ_",
        "outputId": "ce24eaab-f350-4fc1-8bf7-3cdba240f470"
      },
      "execution_count": 16,
      "outputs": [
        {
          "output_type": "display_data",
          "data": {
            "text/plain": [
              "<IPython.core.display.HTML object>"
            ],
            "text/html": [
              "\n",
              "     <input type=\"file\" id=\"files-0a6adb06-fca2-4f15-970f-e79880e05b16\" name=\"files[]\" multiple disabled\n",
              "        style=\"border:none\" />\n",
              "     <output id=\"result-0a6adb06-fca2-4f15-970f-e79880e05b16\">\n",
              "      Upload widget is only available when the cell has been executed in the\n",
              "      current browser session. Please rerun this cell to enable.\n",
              "      </output>\n",
              "      <script>// Copyright 2017 Google LLC\n",
              "//\n",
              "// Licensed under the Apache License, Version 2.0 (the \"License\");\n",
              "// you may not use this file except in compliance with the License.\n",
              "// You may obtain a copy of the License at\n",
              "//\n",
              "//      http://www.apache.org/licenses/LICENSE-2.0\n",
              "//\n",
              "// Unless required by applicable law or agreed to in writing, software\n",
              "// distributed under the License is distributed on an \"AS IS\" BASIS,\n",
              "// WITHOUT WARRANTIES OR CONDITIONS OF ANY KIND, either express or implied.\n",
              "// See the License for the specific language governing permissions and\n",
              "// limitations under the License.\n",
              "\n",
              "/**\n",
              " * @fileoverview Helpers for google.colab Python module.\n",
              " */\n",
              "(function(scope) {\n",
              "function span(text, styleAttributes = {}) {\n",
              "  const element = document.createElement('span');\n",
              "  element.textContent = text;\n",
              "  for (const key of Object.keys(styleAttributes)) {\n",
              "    element.style[key] = styleAttributes[key];\n",
              "  }\n",
              "  return element;\n",
              "}\n",
              "\n",
              "// Max number of bytes which will be uploaded at a time.\n",
              "const MAX_PAYLOAD_SIZE = 100 * 1024;\n",
              "\n",
              "function _uploadFiles(inputId, outputId) {\n",
              "  const steps = uploadFilesStep(inputId, outputId);\n",
              "  const outputElement = document.getElementById(outputId);\n",
              "  // Cache steps on the outputElement to make it available for the next call\n",
              "  // to uploadFilesContinue from Python.\n",
              "  outputElement.steps = steps;\n",
              "\n",
              "  return _uploadFilesContinue(outputId);\n",
              "}\n",
              "\n",
              "// This is roughly an async generator (not supported in the browser yet),\n",
              "// where there are multiple asynchronous steps and the Python side is going\n",
              "// to poll for completion of each step.\n",
              "// This uses a Promise to block the python side on completion of each step,\n",
              "// then passes the result of the previous step as the input to the next step.\n",
              "function _uploadFilesContinue(outputId) {\n",
              "  const outputElement = document.getElementById(outputId);\n",
              "  const steps = outputElement.steps;\n",
              "\n",
              "  const next = steps.next(outputElement.lastPromiseValue);\n",
              "  return Promise.resolve(next.value.promise).then((value) => {\n",
              "    // Cache the last promise value to make it available to the next\n",
              "    // step of the generator.\n",
              "    outputElement.lastPromiseValue = value;\n",
              "    return next.value.response;\n",
              "  });\n",
              "}\n",
              "\n",
              "/**\n",
              " * Generator function which is called between each async step of the upload\n",
              " * process.\n",
              " * @param {string} inputId Element ID of the input file picker element.\n",
              " * @param {string} outputId Element ID of the output display.\n",
              " * @return {!Iterable<!Object>} Iterable of next steps.\n",
              " */\n",
              "function* uploadFilesStep(inputId, outputId) {\n",
              "  const inputElement = document.getElementById(inputId);\n",
              "  inputElement.disabled = false;\n",
              "\n",
              "  const outputElement = document.getElementById(outputId);\n",
              "  outputElement.innerHTML = '';\n",
              "\n",
              "  const pickedPromise = new Promise((resolve) => {\n",
              "    inputElement.addEventListener('change', (e) => {\n",
              "      resolve(e.target.files);\n",
              "    });\n",
              "  });\n",
              "\n",
              "  const cancel = document.createElement('button');\n",
              "  inputElement.parentElement.appendChild(cancel);\n",
              "  cancel.textContent = 'Cancel upload';\n",
              "  const cancelPromise = new Promise((resolve) => {\n",
              "    cancel.onclick = () => {\n",
              "      resolve(null);\n",
              "    };\n",
              "  });\n",
              "\n",
              "  // Wait for the user to pick the files.\n",
              "  const files = yield {\n",
              "    promise: Promise.race([pickedPromise, cancelPromise]),\n",
              "    response: {\n",
              "      action: 'starting',\n",
              "    }\n",
              "  };\n",
              "\n",
              "  cancel.remove();\n",
              "\n",
              "  // Disable the input element since further picks are not allowed.\n",
              "  inputElement.disabled = true;\n",
              "\n",
              "  if (!files) {\n",
              "    return {\n",
              "      response: {\n",
              "        action: 'complete',\n",
              "      }\n",
              "    };\n",
              "  }\n",
              "\n",
              "  for (const file of files) {\n",
              "    const li = document.createElement('li');\n",
              "    li.append(span(file.name, {fontWeight: 'bold'}));\n",
              "    li.append(span(\n",
              "        `(${file.type || 'n/a'}) - ${file.size} bytes, ` +\n",
              "        `last modified: ${\n",
              "            file.lastModifiedDate ? file.lastModifiedDate.toLocaleDateString() :\n",
              "                                    'n/a'} - `));\n",
              "    const percent = span('0% done');\n",
              "    li.appendChild(percent);\n",
              "\n",
              "    outputElement.appendChild(li);\n",
              "\n",
              "    const fileDataPromise = new Promise((resolve) => {\n",
              "      const reader = new FileReader();\n",
              "      reader.onload = (e) => {\n",
              "        resolve(e.target.result);\n",
              "      };\n",
              "      reader.readAsArrayBuffer(file);\n",
              "    });\n",
              "    // Wait for the data to be ready.\n",
              "    let fileData = yield {\n",
              "      promise: fileDataPromise,\n",
              "      response: {\n",
              "        action: 'continue',\n",
              "      }\n",
              "    };\n",
              "\n",
              "    // Use a chunked sending to avoid message size limits. See b/62115660.\n",
              "    let position = 0;\n",
              "    do {\n",
              "      const length = Math.min(fileData.byteLength - position, MAX_PAYLOAD_SIZE);\n",
              "      const chunk = new Uint8Array(fileData, position, length);\n",
              "      position += length;\n",
              "\n",
              "      const base64 = btoa(String.fromCharCode.apply(null, chunk));\n",
              "      yield {\n",
              "        response: {\n",
              "          action: 'append',\n",
              "          file: file.name,\n",
              "          data: base64,\n",
              "        },\n",
              "      };\n",
              "\n",
              "      let percentDone = fileData.byteLength === 0 ?\n",
              "          100 :\n",
              "          Math.round((position / fileData.byteLength) * 100);\n",
              "      percent.textContent = `${percentDone}% done`;\n",
              "\n",
              "    } while (position < fileData.byteLength);\n",
              "  }\n",
              "\n",
              "  // All done.\n",
              "  yield {\n",
              "    response: {\n",
              "      action: 'complete',\n",
              "    }\n",
              "  };\n",
              "}\n",
              "\n",
              "scope.google = scope.google || {};\n",
              "scope.google.colab = scope.google.colab || {};\n",
              "scope.google.colab._files = {\n",
              "  _uploadFiles,\n",
              "  _uploadFilesContinue,\n",
              "};\n",
              "})(self);\n",
              "</script> "
            ]
          },
          "metadata": {}
        },
        {
          "output_type": "stream",
          "name": "stdout",
          "text": [
            "Saving Company Sales Data 2020.csv to Company Sales Data 2020 (2).csv\n",
            "       OrderDate   StockDate OrderNumber  ProductKey  CustomerKey  \\\n",
            "0     2020-01-01  2019-09-21     SO45080         332        14657   \n",
            "1     2020-01-01  2019-12-05     SO45079         312        29255   \n",
            "2     2020-01-01  2019-10-29     SO45082         350        11455   \n",
            "3     2020-01-01  2019-11-16     SO45081         338        26782   \n",
            "4     2020-01-02  2019-12-15     SO45083         312        14947   \n",
            "...          ...         ...         ...         ...          ...   \n",
            "2625  2020-12-31  2020-11-29     SO48728         354        13111   \n",
            "2626  2020-12-31  2020-11-14     SO48729         324        26563   \n",
            "2627  2020-12-31  2020-12-02     SO48724         340        20722   \n",
            "2628  2020-12-31  2020-10-09     SO48723         369        14944   \n",
            "2629  2020-12-31  2020-11-22     SO48726         383        24915   \n",
            "\n",
            "      TerritoryKey  OrderLineItem  OrderQuantity  \n",
            "0                1              1              1  \n",
            "1                4              1              1  \n",
            "2                9              1              1  \n",
            "3                6              1              1  \n",
            "4               10              1              1  \n",
            "...            ...            ...            ...  \n",
            "2625             9              1              1  \n",
            "2626             9              1              1  \n",
            "2627             8              1              1  \n",
            "2628             7              1              1  \n",
            "2629             9              1              1  \n",
            "\n",
            "[2630 rows x 8 columns]\n"
          ]
        }
      ]
    },
    {
      "cell_type": "code",
      "source": [
        "#6.Import Excel Files using pandas\n",
        "from google.colab import files\n",
        "uploaded=files.upload()\n",
        "\n",
        "import pandas as pd\n",
        "data=pd.read_excel(\"emp monthly sal.xlsx\")\n",
        "print(data)"
      ],
      "metadata": {
        "colab": {
          "base_uri": "https://localhost:8080/",
          "height": 940
        },
        "id": "CNcpyUdmbxO3",
        "outputId": "6e7deda7-d44d-47cd-f861-1f5e04fb251a"
      },
      "execution_count": 20,
      "outputs": [
        {
          "output_type": "display_data",
          "data": {
            "text/plain": [
              "<IPython.core.display.HTML object>"
            ],
            "text/html": [
              "\n",
              "     <input type=\"file\" id=\"files-da078257-f5e5-4b1c-8a88-7dccb420452f\" name=\"files[]\" multiple disabled\n",
              "        style=\"border:none\" />\n",
              "     <output id=\"result-da078257-f5e5-4b1c-8a88-7dccb420452f\">\n",
              "      Upload widget is only available when the cell has been executed in the\n",
              "      current browser session. Please rerun this cell to enable.\n",
              "      </output>\n",
              "      <script>// Copyright 2017 Google LLC\n",
              "//\n",
              "// Licensed under the Apache License, Version 2.0 (the \"License\");\n",
              "// you may not use this file except in compliance with the License.\n",
              "// You may obtain a copy of the License at\n",
              "//\n",
              "//      http://www.apache.org/licenses/LICENSE-2.0\n",
              "//\n",
              "// Unless required by applicable law or agreed to in writing, software\n",
              "// distributed under the License is distributed on an \"AS IS\" BASIS,\n",
              "// WITHOUT WARRANTIES OR CONDITIONS OF ANY KIND, either express or implied.\n",
              "// See the License for the specific language governing permissions and\n",
              "// limitations under the License.\n",
              "\n",
              "/**\n",
              " * @fileoverview Helpers for google.colab Python module.\n",
              " */\n",
              "(function(scope) {\n",
              "function span(text, styleAttributes = {}) {\n",
              "  const element = document.createElement('span');\n",
              "  element.textContent = text;\n",
              "  for (const key of Object.keys(styleAttributes)) {\n",
              "    element.style[key] = styleAttributes[key];\n",
              "  }\n",
              "  return element;\n",
              "}\n",
              "\n",
              "// Max number of bytes which will be uploaded at a time.\n",
              "const MAX_PAYLOAD_SIZE = 100 * 1024;\n",
              "\n",
              "function _uploadFiles(inputId, outputId) {\n",
              "  const steps = uploadFilesStep(inputId, outputId);\n",
              "  const outputElement = document.getElementById(outputId);\n",
              "  // Cache steps on the outputElement to make it available for the next call\n",
              "  // to uploadFilesContinue from Python.\n",
              "  outputElement.steps = steps;\n",
              "\n",
              "  return _uploadFilesContinue(outputId);\n",
              "}\n",
              "\n",
              "// This is roughly an async generator (not supported in the browser yet),\n",
              "// where there are multiple asynchronous steps and the Python side is going\n",
              "// to poll for completion of each step.\n",
              "// This uses a Promise to block the python side on completion of each step,\n",
              "// then passes the result of the previous step as the input to the next step.\n",
              "function _uploadFilesContinue(outputId) {\n",
              "  const outputElement = document.getElementById(outputId);\n",
              "  const steps = outputElement.steps;\n",
              "\n",
              "  const next = steps.next(outputElement.lastPromiseValue);\n",
              "  return Promise.resolve(next.value.promise).then((value) => {\n",
              "    // Cache the last promise value to make it available to the next\n",
              "    // step of the generator.\n",
              "    outputElement.lastPromiseValue = value;\n",
              "    return next.value.response;\n",
              "  });\n",
              "}\n",
              "\n",
              "/**\n",
              " * Generator function which is called between each async step of the upload\n",
              " * process.\n",
              " * @param {string} inputId Element ID of the input file picker element.\n",
              " * @param {string} outputId Element ID of the output display.\n",
              " * @return {!Iterable<!Object>} Iterable of next steps.\n",
              " */\n",
              "function* uploadFilesStep(inputId, outputId) {\n",
              "  const inputElement = document.getElementById(inputId);\n",
              "  inputElement.disabled = false;\n",
              "\n",
              "  const outputElement = document.getElementById(outputId);\n",
              "  outputElement.innerHTML = '';\n",
              "\n",
              "  const pickedPromise = new Promise((resolve) => {\n",
              "    inputElement.addEventListener('change', (e) => {\n",
              "      resolve(e.target.files);\n",
              "    });\n",
              "  });\n",
              "\n",
              "  const cancel = document.createElement('button');\n",
              "  inputElement.parentElement.appendChild(cancel);\n",
              "  cancel.textContent = 'Cancel upload';\n",
              "  const cancelPromise = new Promise((resolve) => {\n",
              "    cancel.onclick = () => {\n",
              "      resolve(null);\n",
              "    };\n",
              "  });\n",
              "\n",
              "  // Wait for the user to pick the files.\n",
              "  const files = yield {\n",
              "    promise: Promise.race([pickedPromise, cancelPromise]),\n",
              "    response: {\n",
              "      action: 'starting',\n",
              "    }\n",
              "  };\n",
              "\n",
              "  cancel.remove();\n",
              "\n",
              "  // Disable the input element since further picks are not allowed.\n",
              "  inputElement.disabled = true;\n",
              "\n",
              "  if (!files) {\n",
              "    return {\n",
              "      response: {\n",
              "        action: 'complete',\n",
              "      }\n",
              "    };\n",
              "  }\n",
              "\n",
              "  for (const file of files) {\n",
              "    const li = document.createElement('li');\n",
              "    li.append(span(file.name, {fontWeight: 'bold'}));\n",
              "    li.append(span(\n",
              "        `(${file.type || 'n/a'}) - ${file.size} bytes, ` +\n",
              "        `last modified: ${\n",
              "            file.lastModifiedDate ? file.lastModifiedDate.toLocaleDateString() :\n",
              "                                    'n/a'} - `));\n",
              "    const percent = span('0% done');\n",
              "    li.appendChild(percent);\n",
              "\n",
              "    outputElement.appendChild(li);\n",
              "\n",
              "    const fileDataPromise = new Promise((resolve) => {\n",
              "      const reader = new FileReader();\n",
              "      reader.onload = (e) => {\n",
              "        resolve(e.target.result);\n",
              "      };\n",
              "      reader.readAsArrayBuffer(file);\n",
              "    });\n",
              "    // Wait for the data to be ready.\n",
              "    let fileData = yield {\n",
              "      promise: fileDataPromise,\n",
              "      response: {\n",
              "        action: 'continue',\n",
              "      }\n",
              "    };\n",
              "\n",
              "    // Use a chunked sending to avoid message size limits. See b/62115660.\n",
              "    let position = 0;\n",
              "    do {\n",
              "      const length = Math.min(fileData.byteLength - position, MAX_PAYLOAD_SIZE);\n",
              "      const chunk = new Uint8Array(fileData, position, length);\n",
              "      position += length;\n",
              "\n",
              "      const base64 = btoa(String.fromCharCode.apply(null, chunk));\n",
              "      yield {\n",
              "        response: {\n",
              "          action: 'append',\n",
              "          file: file.name,\n",
              "          data: base64,\n",
              "        },\n",
              "      };\n",
              "\n",
              "      let percentDone = fileData.byteLength === 0 ?\n",
              "          100 :\n",
              "          Math.round((position / fileData.byteLength) * 100);\n",
              "      percent.textContent = `${percentDone}% done`;\n",
              "\n",
              "    } while (position < fileData.byteLength);\n",
              "  }\n",
              "\n",
              "  // All done.\n",
              "  yield {\n",
              "    response: {\n",
              "      action: 'complete',\n",
              "    }\n",
              "  };\n",
              "}\n",
              "\n",
              "scope.google = scope.google || {};\n",
              "scope.google.colab = scope.google.colab || {};\n",
              "scope.google.colab._files = {\n",
              "  _uploadFiles,\n",
              "  _uploadFilesContinue,\n",
              "};\n",
              "})(self);\n",
              "</script> "
            ]
          },
          "metadata": {}
        },
        {
          "output_type": "stream",
          "name": "stdout",
          "text": [
            "Saving emp monthly sal.xlsx to emp monthly sal (1).xlsx\n",
            "   npdays=31 Unnamed: 1 Unnamed: 2 Unnamed: 3 Unnamed: 4 Unnamed: 5  \\\n",
            "0        Eid      Ename  Basic Sal         Ta         DA        HRA   \n",
            "1        101     Vishnu      30000       2400       3000       2700   \n",
            "2        102     Ganesh      20000       1600       2000       1800   \n",
            "3        103     Sanjay      25000       2000       2500       2250   \n",
            "4        104     Kalyan      40000       3200       4000       3600   \n",
            "5        105     Vishnu      32000       2560       3200       2880   \n",
            "6        106     Ganesh      28000       2240       2800       2520   \n",
            "7        107     Sanjay      33000       2640       3300       2970   \n",
            "8        108     Kalyan      29000       2320       2900       2610   \n",
            "9        109     Sanjay      67000       5360       6700       6030   \n",
            "10       110       Ajay      65000       5200       6500       5850   \n",
            "11       111     Kalyan      41000       3280       4100       3690   \n",
            "12       112     Kalyan      50000       4000       5000       4500   \n",
            "13       113     Ganesh      75000       6000       7500       6750   \n",
            "14       114      Srinu      80000       6400       8000       7200   \n",
            "\n",
            "   Unnamed: 6 Unnamed: 7 Unnamed: 8    Unnamed: 9 Unnamed: 10   Unnamed: 11  \\\n",
            "0          PF        TAX     Leaves    Leaves amt   Gross sal       Net sal   \n",
            "1        3600       2400          4   3870.967742       38100  28229.032258   \n",
            "2        2400       1600          6   3870.967742       25400  17529.032258   \n",
            "3        3000       2000          3   2419.354839       31750  24330.645161   \n",
            "4        4800       3200          9  11612.903226       50800  31187.096774   \n",
            "5        3840       2560         10  10322.580645       40640  23917.419355   \n",
            "6        3360       2240          7   6322.580645       35560  23637.419355   \n",
            "7        3960       2640          3   3193.548387       41910  32116.451613   \n",
            "8        3480       2320          1    935.483871       36830  30094.516129   \n",
            "9        8040       5360          0             0       85090         71690   \n",
            "10       7800       5200          8  16774.193548       82550  52775.806452   \n",
            "11       4920       3280         13  17193.548387       52070  26676.451613   \n",
            "12       6000       4000          5   8064.516129       63500  45435.483871   \n",
            "13       9000       6000          0             0       95250         80250   \n",
            "14       9600       6400         16  41290.322581      101600  44309.677419   \n",
            "\n",
            "   Unnamed: 12  Unnamed: 13  Unnamed: 14 Unnamed: 15 Unnamed: 16  \n",
            "0        Grade          NaN          NaN      Salary       Grade  \n",
            "1            C          NaN          NaN           0           D  \n",
            "2            C          NaN          NaN       15000           C  \n",
            "3            B          NaN          NaN       30000           B  \n",
            "4            C          NaN          NaN       45000           A  \n",
            "5            C          NaN          NaN       60000          A+  \n",
            "6            B          NaN          NaN         NaN         NaN  \n",
            "7            B          NaN          NaN         NaN         NaN  \n",
            "8           A+          NaN          NaN         NaN         NaN  \n",
            "9            A          NaN          NaN         NaN         NaN  \n",
            "10           C          NaN          NaN         NaN         NaN  \n",
            "11           A          NaN          NaN         NaN         NaN  \n",
            "12          A+          NaN          NaN         NaN         NaN  \n",
            "13           B          NaN          NaN         NaN         NaN  \n",
            "14           D          NaN          NaN         NaN         NaN  \n"
          ]
        }
      ]
    }
  ]
}